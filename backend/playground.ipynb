{
 "cells": [
  {
   "cell_type": "code",
   "execution_count": null,
   "metadata": {},
   "outputs": [],
   "source": []
  },
  {
   "cell_type": "code",
   "execution_count": 1,
   "metadata": {},
   "outputs": [],
   "source": [
    "import pylxd\n",
    "import os\n",
    "\n",
    "from pylxd import Client"
   ]
  },
  {
   "cell_type": "markdown",
   "metadata": {},
   "source": [
    "## Authenticating"
   ]
  },
  {
   "cell_type": "code",
   "execution_count": 5,
   "metadata": {},
   "outputs": [],
   "source": [
    "BASE_DIR = os.getcwd()\n",
    "def cert_path(file):\n",
    "    return os.path.join(BASE_DIR, 'test_certificate', 'tmp', file)"
   ]
  },
  {
   "cell_type": "markdown",
   "metadata": {},
   "source": [
    "## Before executing this need to make sure that\n",
    "core.trust_password is set to expected password\n",
    "\n",
    "```\n",
    "sudo lxc config get core.trust_password\n",
    "```\n",
    "\n",
    "```\n",
    "sudo lxc config set core.trust_password test\n",
    "```\n",
    "\n",
    "# or use following command to get trusted token\n",
    "\n",
    "```\n",
    "lxc config trust add\n",
    "```\n",
    "\n"
   ]
  },
  {
   "cell_type": "code",
   "execution_count": 10,
   "metadata": {},
   "outputs": [
    {
     "name": "stderr",
     "output_type": "stream",
     "text": [
      "/mnt/c/Users/asus/Desktop/Projects/cloudboi/backend/.venv/lib/python3.12/site-packages/urllib3/connectionpool.py:1099: InsecureRequestWarning: Unverified HTTPS request is being made to host '192.168.1.230'. Adding certificate verification is strongly advised. See: https://urllib3.readthedocs.io/en/latest/advanced-usage.html#tls-warnings\n",
      "  warnings.warn(\n",
      "/mnt/c/Users/asus/Desktop/Projects/cloudboi/backend/.venv/lib/python3.12/site-packages/urllib3/connectionpool.py:1099: InsecureRequestWarning: Unverified HTTPS request is being made to host '192.168.1.230'. Adding certificate verification is strongly advised. See: https://urllib3.readthedocs.io/en/latest/advanced-usage.html#tls-warnings\n",
      "  warnings.warn(\n"
     ]
    },
    {
     "name": "stdout",
     "output_type": "stream",
     "text": [
      "True\n"
     ]
    },
    {
     "name": "stderr",
     "output_type": "stream",
     "text": [
      "/mnt/c/Users/asus/Desktop/Projects/cloudboi/backend/.venv/lib/python3.12/site-packages/urllib3/connectionpool.py:1099: InsecureRequestWarning: Unverified HTTPS request is being made to host '192.168.1.230'. Adding certificate verification is strongly advised. See: https://urllib3.readthedocs.io/en/latest/advanced-usage.html#tls-warnings\n",
      "  warnings.warn(\n",
      "/mnt/c/Users/asus/Desktop/Projects/cloudboi/backend/.venv/lib/python3.12/site-packages/urllib3/connectionpool.py:1099: InsecureRequestWarning: Unverified HTTPS request is being made to host '192.168.1.230'. Adding certificate verification is strongly advised. See: https://urllib3.readthedocs.io/en/latest/advanced-usage.html#tls-warnings\n",
      "  warnings.warn(\n"
     ]
    }
   ],
   "source": [
    "cert = (cert_path('lxd.crt'),cert_path('lxd.key'))\n",
    "endpoint = 'https://192.168.1.230:8443'\n",
    "\n",
    "trusted = 'eyJjbGllbnRfbmFtZSI6InRlc3QtZGV2IiwiZmluZ2VycHJpbnQiOiIyZGI4OGZiMGNjYTdiYTM1ZjI0ZjcyNjAzMTQxYjdhOGUzNDAzODBiMGNmZmJmZmY2MzRjN2E5Y2VjZjNlNGEyIiwiYWRkcmVzc2VzIjpbIjE5Mi4xNjguMS4yMzA6ODQ0MyJdLCJzZWNyZXQiOiJjMDE2MDIzMWUwYjIxYTYxMzVhYmZjYWZmMjU3Y2Y2MmEyNTJjNGFiMTE4MDhmY2I1YjMxZTI5MDU0ZDE3MzhjIiwiZXhwaXJlc19hdCI6IjAwMDEtMDEtMDFUMDA6MDA6MDBaIiwidHlwZSI6IiJ9'\n",
    "\n",
    "client: pylxd.Client = pylxd.Client(endpoint=endpoint, cert=cert, verify=False)\n",
    "\n",
    "client.authenticate(trusted)\n",
    "print(client.trusted)"
   ]
  },
  {
   "cell_type": "code",
   "execution_count": 21,
   "metadata": {},
   "outputs": [
    {
     "name": "stderr",
     "output_type": "stream",
     "text": [
      "/mnt/c/Users/asus/Desktop/Projects/cloudboi/backend/.venv/lib/python3.12/site-packages/urllib3/connectionpool.py:1099: InsecureRequestWarning: Unverified HTTPS request is being made to host '192.168.1.230'. Adding certificate verification is strongly advised. See: https://urllib3.readthedocs.io/en/latest/advanced-usage.html#tls-warnings\n",
      "  warnings.warn(\n",
      "/mnt/c/Users/asus/Desktop/Projects/cloudboi/backend/.venv/lib/python3.12/site-packages/urllib3/connectionpool.py:1099: InsecureRequestWarning: Unverified HTTPS request is being made to host '192.168.1.230'. Adding certificate verification is strongly advised. See: https://urllib3.readthedocs.io/en/latest/advanced-usage.html#tls-warnings\n",
      "  warnings.warn(\n",
      "/mnt/c/Users/asus/Desktop/Projects/cloudboi/backend/.venv/lib/python3.12/site-packages/urllib3/connectionpool.py:1099: InsecureRequestWarning: Unverified HTTPS request is being made to host '192.168.1.230'. Adding certificate verification is strongly advised. See: https://urllib3.readthedocs.io/en/latest/advanced-usage.html#tls-warnings\n",
      "  warnings.warn(\n",
      "/mnt/c/Users/asus/Desktop/Projects/cloudboi/backend/.venv/lib/python3.12/site-packages/urllib3/connectionpool.py:1099: InsecureRequestWarning: Unverified HTTPS request is being made to host '192.168.1.230'. Adding certificate verification is strongly advised. See: https://urllib3.readthedocs.io/en/latest/advanced-usage.html#tls-warnings\n",
      "  warnings.warn(\n"
     ]
    },
    {
     "name": "stdout",
     "output_type": "stream",
     "text": [
      "cloudboi-main: ['default'] Online\n",
      "subvm0: ['default', 'cloudboi-resource'] Offline\n",
      "subvm1: ['default', 'cloudboi-resource'] Online\n"
     ]
    }
   ],
   "source": [
    "\n",
    "allMembersInCluster = client.cluster.members.all()\n",
    "\n",
    "for member in allMembersInCluster:\n",
    "    print(f\"{member.server_name}: {member.groups} {member.status}\")\n"
   ]
  },
  {
   "cell_type": "code",
   "execution_count": null,
   "metadata": {},
   "outputs": [
    {
     "data": {
      "text/plain": [
       "Instance not found\n"
      ]
     },
     "metadata": {},
     "output_type": "display_data"
    }
   ],
   "source": [
    "\n",
    "def get_instance(instance_name):  \n",
    "  try:\n",
    "    instance = client.instances.get(instance_name)\n",
    "    return instance\n",
    "  except pylxd.exceptions.LXDAPIException as e:\n",
    "    print(e)\n",
    "    return None\n",
    "  \n",
    "test_instance = get_instance('test-instance')"
   ]
  },
  {
   "cell_type": "code",
   "execution_count": null,
   "metadata": {},
   "outputs": [],
   "source": [
    "all_image = client.images.all()\n",
    "\n",
    "for image in all_image:\n",
    "    print(image.alias)\n",
    "    print(image.fingerprint)"
   ]
  },
  {
   "cell_type": "code",
   "execution_count": 19,
   "metadata": {},
   "outputs": [
    {
     "name": "stderr",
     "output_type": "stream",
     "text": [
      "/mnt/c/Users/asus/Desktop/Projects/cloudboi/backend/.venv/lib/python3.12/site-packages/urllib3/connectionpool.py:1099: InsecureRequestWarning: Unverified HTTPS request is being made to host '192.168.1.230'. Adding certificate verification is strongly advised. See: https://urllib3.readthedocs.io/en/latest/advanced-usage.html#tls-warnings\n",
      "  warnings.warn(\n",
      "/mnt/c/Users/asus/Desktop/Projects/cloudboi/backend/.venv/lib/python3.12/site-packages/urllib3/connectionpool.py:1099: InsecureRequestWarning: Unverified HTTPS request is being made to host '192.168.1.230'. Adding certificate verification is strongly advised. See: https://urllib3.readthedocs.io/en/latest/advanced-usage.html#tls-warnings\n",
      "  warnings.warn(\n",
      "/mnt/c/Users/asus/Desktop/Projects/cloudboi/backend/.venv/lib/python3.12/site-packages/urllib3/connectionpool.py:1099: InsecureRequestWarning: Unverified HTTPS request is being made to host '192.168.1.230'. Adding certificate verification is strongly advised. See: https://urllib3.readthedocs.io/en/latest/advanced-usage.html#tls-warnings\n",
      "  warnings.warn(\n"
     ]
    },
    {
     "name": "stdout",
     "output_type": "stream",
     "text": [
      "Failed creating instance record: Instance \"test-instance\" already exists\n"
     ]
    },
    {
     "name": "stderr",
     "output_type": "stream",
     "text": [
      "/mnt/c/Users/asus/Desktop/Projects/cloudboi/backend/.venv/lib/python3.12/site-packages/urllib3/connectionpool.py:1099: InsecureRequestWarning: Unverified HTTPS request is being made to host '192.168.1.230'. Adding certificate verification is strongly advised. See: https://urllib3.readthedocs.io/en/latest/advanced-usage.html#tls-warnings\n",
      "  warnings.warn(\n"
     ]
    },
    {
     "data": {
      "text/plain": [
       "<pylxd.models.instance.Instance at 0x7fed04103ca0>"
      ]
     },
     "execution_count": 19,
     "metadata": {},
     "output_type": "execute_result"
    }
   ],
   "source": [
    "def create_instance(instance_name):\n",
    "  instance_info = {\n",
    "      'name': instance_name,\n",
    "      \"source\": {\n",
    "            \"type\": \"image\",\n",
    "            \"mode\": \"pull\",\n",
    "            \"server\": \"https://cloud-images.ubuntu.com/releases\",\n",
    "            \"protocol\": \"simplestreams\",\n",
    "            \"alias\": \"22.04\",\n",
    "        },\n",
    "      'profiles': ['default'],\n",
    "      'config': {\n",
    "        'limits.cpu': '1',\n",
    "        'limits.memory': '256MB'\n",
    "      }\n",
    "    }\n",
    "  try:\n",
    "    instance = client.instances.create(instance_info, wait=True, target='@cloudboi-resource')\n",
    "    return instance\n",
    "  except pylxd.exceptions.LXDAPIException as e:\n",
    "    print(e)\n",
    "    return\n",
    "  \n",
    "test_instance = create_instance('test-instance')\n",
    "\n",
    "client.instances.get('test-instance')"
   ]
  },
  {
   "cell_type": "code",
   "execution_count": null,
   "metadata": {},
   "outputs": [
    {
     "data": {
      "text/plain": [
       "<pylxd.models.instance.Instance object at 0x102e00e40>\n"
      ]
     },
     "metadata": {},
     "output_type": "display_data"
    }
   ],
   "source": [
    "def start_instance(instance_name):\n",
    "  try:\n",
    "    instance = get_instance(instance_name)\n",
    "    instance.start(wait=False)\n",
    "    return instance\n",
    "  except pylxd.exceptions.LXDAPIException as e:\n",
    "    print(e)\n",
    "    return\n",
    "  \n",
    "print(start_instance('test-instance'))"
   ]
  },
  {
   "cell_type": "code",
   "execution_count": null,
   "metadata": {},
   "outputs": [
    {
     "data": {
      "text/plain": [
       "Instance is running\n"
      ]
     },
     "metadata": {},
     "output_type": "display_data"
    }
   ],
   "source": [
    "def delete_instance(instance_name):\n",
    "  try:\n",
    "    instance = client.instances.get(instance_name)\n",
    "    instance.delete(wait=True)\n",
    "  except pylxd.exceptions.LXDAPIException as e:\n",
    "    print(e)\n",
    "    return\n",
    "# Cant delete instance if it is running\n",
    "delete_instance('test-instance')"
   ]
  },
  {
   "cell_type": "code",
   "execution_count": null,
   "metadata": {},
   "outputs": [
    {
     "data": {
      "text/plain": [
       "Traceback (most recent call last):\n",
       "  File \"/Users/pannapat/.vscode/extensions/ms-python.python-2024.20.0-darwin-arm64/python_files/python_server.py\", line 130, in exec_user_input\n",
       "    retval = callable_(user_input, user_globals)\n",
       "             ^^^^^^^^^^^^^^^^^^^^^^^^^^^^^^^^^^^\n",
       "  File \"<string>\", line 11, in <module>\n",
       "  File \"<string>\", line 5, in execute_command\n",
       "  File \"/Users/pannapat/Desktop/cloudboi/backend/.venv/lib/python3.12/site-packages/pylxd/models/instance.py\", line 475, in execute\n",
       "    stdin.connect()\n",
       "  File \"/Users/pannapat/Desktop/cloudboi/backend/.venv/lib/python3.12/site-packages/ws4py/client/__init__.py\", line 214, in connect\n",
       "    self.sock = ssl.wrap_socket(self.sock, **self.ssl_options)\n",
       "                ^^^^^^^^^^^^^^^\n",
       "AttributeError: module 'ssl' has no attribute 'wrap_socket'\n",
       "\n"
      ]
     },
     "metadata": {},
     "output_type": "display_data"
    }
   ],
   "source": [
    "# execute command \n",
    "def execute_command(instance_name, command):\n",
    "  try:\n",
    "    instance = get_instance(instance_name)\n",
    "    result = instance.execute(command)\n",
    "    return result\n",
    "  except pylxd.exceptions.LXDAPIException as e:\n",
    "    print(e)\n",
    "    return\n",
    "  \n",
    "print(execute_command('test-instance', ['ls', '-l']))"
   ]
  },
  {
   "cell_type": "markdown",
   "metadata": {},
   "source": []
  }
 ],
 "metadata": {
  "kernelspec": {
   "display_name": ".venv",
   "language": "python",
   "name": "python3"
  },
  "language_info": {
   "codemirror_mode": {
    "name": "ipython",
    "version": 3
   },
   "file_extension": ".py",
   "mimetype": "text/x-python",
   "name": "python",
   "nbconvert_exporter": "python",
   "pygments_lexer": "ipython3",
   "version": "3.12.3"
  }
 },
 "nbformat": 4,
 "nbformat_minor": 2
}
