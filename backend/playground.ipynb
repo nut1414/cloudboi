{
 "cells": [
  {
   "cell_type": "code",
   "execution_count": null,
   "metadata": {},
   "outputs": [],
   "source": []
  },
  {
   "cell_type": "code",
   "execution_count": 3,
   "metadata": {},
   "outputs": [],
   "source": [
    "import pylxd\n",
    "import os\n",
    "\n",
    "from pylxd import Client"
   ]
  },
  {
   "cell_type": "markdown",
   "metadata": {},
   "source": [
    "## Authenticating"
   ]
  },
  {
   "cell_type": "code",
   "execution_count": 4,
   "metadata": {},
   "outputs": [],
   "source": [
    "BASE_DIR = os.getcwd()\n",
    "def cert_path(file):\n",
    "    return os.path.join(BASE_DIR, 'test_certificate', 'tmp', file)"
   ]
  },
  {
   "cell_type": "markdown",
   "metadata": {},
   "source": [
    "## Before executing this need to make sure that\n",
    "core.trust_password is set to expected password\n",
    "\n",
    "```\n",
    "sudo lxc config get core.trust_password\n",
    "```\n",
    "\n",
    "```\n",
    "sudo lxc config set core.trust_password test\n",
    "```\n",
    "\n",
    "# or use following command to get trusted token\n",
    "\n",
    "```\n",
    "lxc config trust add\n",
    "```\n",
    "\n"
   ]
  },
  {
   "cell_type": "code",
   "execution_count": 5,
   "metadata": {},
   "outputs": [
    {
     "name": "stdout",
     "output_type": "stream",
     "text": [
      "True\n"
     ]
    }
   ],
   "source": [
    "cert = (cert_path('lxd.crt'),cert_path('lxd.key'))\n",
    "endpoint = 'https://192.168.1.230:8443'\n",
    "\n",
    "trusted = 'eyJjbGllbnRfbmFtZSI6InRlc3QtZGV2IiwiZmluZ2VycHJpbnQiOiIyZGI4OGZiMGNjYTdiYTM1ZjI0ZjcyNjAzMTQxYjdhOGUzNDAzODBiMGNmZmJmZmY2MzRjN2E5Y2VjZjNlNGEyIiwiYWRkcmVzc2VzIjpbIjE5Mi4xNjguMS4yMzA6ODQ0MyJdLCJzZWNyZXQiOiJjMDE2MDIzMWUwYjIxYTYxMzVhYmZjYWZmMjU3Y2Y2MmEyNTJjNGFiMTE4MDhmY2I1YjMxZTI5MDU0ZDE3MzhjIiwiZXhwaXJlc19hdCI6IjAwMDEtMDEtMDFUMDA6MDA6MDBaIiwidHlwZSI6IiJ9'\n",
    "\n",
    "client: pylxd.Client = pylxd.Client(endpoint=endpoint, cert=cert, verify=False)\n",
    "\n",
    "client.authenticate(trusted)\n",
    "print(client.trusted)"
   ]
  },
  {
   "cell_type": "code",
   "execution_count": 21,
   "metadata": {},
   "outputs": [
    {
     "name": "stderr",
     "output_type": "stream",
     "text": [
      "/mnt/c/Users/asus/Desktop/Projects/cloudboi/backend/.venv/lib/python3.12/site-packages/urllib3/connectionpool.py:1099: InsecureRequestWarning: Unverified HTTPS request is being made to host '192.168.1.230'. Adding certificate verification is strongly advised. See: https://urllib3.readthedocs.io/en/latest/advanced-usage.html#tls-warnings\n",
      "  warnings.warn(\n",
      "/mnt/c/Users/asus/Desktop/Projects/cloudboi/backend/.venv/lib/python3.12/site-packages/urllib3/connectionpool.py:1099: InsecureRequestWarning: Unverified HTTPS request is being made to host '192.168.1.230'. Adding certificate verification is strongly advised. See: https://urllib3.readthedocs.io/en/latest/advanced-usage.html#tls-warnings\n",
      "  warnings.warn(\n",
      "/mnt/c/Users/asus/Desktop/Projects/cloudboi/backend/.venv/lib/python3.12/site-packages/urllib3/connectionpool.py:1099: InsecureRequestWarning: Unverified HTTPS request is being made to host '192.168.1.230'. Adding certificate verification is strongly advised. See: https://urllib3.readthedocs.io/en/latest/advanced-usage.html#tls-warnings\n",
      "  warnings.warn(\n",
      "/mnt/c/Users/asus/Desktop/Projects/cloudboi/backend/.venv/lib/python3.12/site-packages/urllib3/connectionpool.py:1099: InsecureRequestWarning: Unverified HTTPS request is being made to host '192.168.1.230'. Adding certificate verification is strongly advised. See: https://urllib3.readthedocs.io/en/latest/advanced-usage.html#tls-warnings\n",
      "  warnings.warn(\n"
     ]
    },
    {
     "name": "stdout",
     "output_type": "stream",
     "text": [
      "cloudboi-main: ['default'] Online\n",
      "subvm0: ['default', 'cloudboi-resource'] Offline\n",
      "subvm1: ['default', 'cloudboi-resource'] Online\n"
     ]
    }
   ],
   "source": [
    "\n",
    "allMembersInCluster = client.cluster.members.all()\n",
    "\n",
    "for member in allMembersInCluster:\n",
    "    print(f\"{member.server_name}: {member.groups} {member.status}\")\n"
   ]
  },
  {
   "cell_type": "code",
   "execution_count": 7,
   "metadata": {},
   "outputs": [
    {
     "name": "stderr",
     "output_type": "stream",
     "text": [
      "/mnt/c/Users/asus/Desktop/Projects/cloudboi/backend/.venv/lib/python3.12/site-packages/urllib3/connectionpool.py:1099: InsecureRequestWarning: Unverified HTTPS request is being made to host '192.168.1.230'. Adding certificate verification is strongly advised. See: https://urllib3.readthedocs.io/en/latest/advanced-usage.html#tls-warnings\n",
      "  warnings.warn(\n",
      "/mnt/c/Users/asus/Desktop/Projects/cloudboi/backend/.venv/lib/python3.12/site-packages/urllib3/connectionpool.py:1099: InsecureRequestWarning: Unverified HTTPS request is being made to host '192.168.1.230'. Adding certificate verification is strongly advised. See: https://urllib3.readthedocs.io/en/latest/advanced-usage.html#tls-warnings\n",
      "  warnings.warn(\n",
      "/mnt/c/Users/asus/Desktop/Projects/cloudboi/backend/.venv/lib/python3.12/site-packages/urllib3/connectionpool.py:1099: InsecureRequestWarning: Unverified HTTPS request is being made to host '192.168.1.230'. Adding certificate verification is strongly advised. See: https://urllib3.readthedocs.io/en/latest/advanced-usage.html#tls-warnings\n",
      "  warnings.warn(\n",
      "/mnt/c/Users/asus/Desktop/Projects/cloudboi/backend/.venv/lib/python3.12/site-packages/urllib3/connectionpool.py:1099: InsecureRequestWarning: Unverified HTTPS request is being made to host '192.168.1.230'. Adding certificate verification is strongly advised. See: https://urllib3.readthedocs.io/en/latest/advanced-usage.html#tls-warnings\n",
      "  warnings.warn(\n",
      "/mnt/c/Users/asus/Desktop/Projects/cloudboi/backend/.venv/lib/python3.12/site-packages/urllib3/connectionpool.py:1099: InsecureRequestWarning: Unverified HTTPS request is being made to host '192.168.1.230'. Adding certificate verification is strongly advised. See: https://urllib3.readthedocs.io/en/latest/advanced-usage.html#tls-warnings\n",
      "  warnings.warn(\n"
     ]
    },
    {
     "name": "stdout",
     "output_type": "stream",
     "text": [
      "Exit Code: 0\n",
      "STDOUT: \n",
      "You can now choose the new password or passphrase.\n",
      "\n",
      "A valid password should be a mix of upper and lower case letters, digits, and\n",
      "other characters.  You can use a password containing at least 7 characters\n",
      "from all of these classes, or a password containing at least 8 characters\n",
      "from just 3 of these 4 classes.\n",
      "An upper case letter that begins the password and a digit that ends it do not\n",
      "count towards the number of character classes used.\n",
      "\n",
      "A passphrase should be of at least 3 words, 11 to 72 characters long, and\n",
      "contain enough different characters.\n",
      "\n",
      "Alternatively, if no one else can see your terminal now, you can pick this as\n",
      "your password: \"Serum-baltic+Relish\".\n",
      "\n",
      "\n",
      "STDERR: passwd: updating all authentication tokens for user root.\n",
      "Enter new password: Re-type new password: passwd: all authentication tokens updated successfully.\n",
      "\n",
      "Container Status: Running\n"
     ]
    }
   ],
   "source": [
    "container = client.instances.get(\"u3\")\n",
    "\n",
    "command = [\"passwd\", \"root\"]\n",
    "stdin_payload = bytearray(\"ThisMe1234\\nThisMe1234\\n\", \"utf-8\")\n",
    "\n",
    "exit_code, stdout, stderr = container.execute(command, stdin_payload=stdin_payload, encoding=\"utf-8\")\n",
    "\n",
    "print(\"Exit Code:\", exit_code)\n",
    "print(\"STDOUT:\", stdout)\n",
    "print(\"STDERR:\", stderr)\n",
    "print(\"Container Status:\", container.state().status)\n"
   ]
  },
  {
   "cell_type": "code",
   "execution_count": 25,
   "metadata": {},
   "outputs": [
    {
     "name": "stderr",
     "output_type": "stream",
     "text": [
      "/mnt/c/Users/asus/Desktop/Projects/cloudboi/backend/.venv/lib/python3.12/site-packages/urllib3/connectionpool.py:1099: InsecureRequestWarning: Unverified HTTPS request is being made to host '192.168.1.230'. Adding certificate verification is strongly advised. See: https://urllib3.readthedocs.io/en/latest/advanced-usage.html#tls-warnings\n",
      "  warnings.warn(\n",
      "/mnt/c/Users/asus/Desktop/Projects/cloudboi/backend/.venv/lib/python3.12/site-packages/urllib3/connectionpool.py:1099: InsecureRequestWarning: Unverified HTTPS request is being made to host '192.168.1.230'. Adding certificate verification is strongly advised. See: https://urllib3.readthedocs.io/en/latest/advanced-usage.html#tls-warnings\n",
      "  warnings.warn(\n"
     ]
    },
    {
     "name": "stdout",
     "output_type": "stream",
     "text": [
      "Connected to wss://192.168.1.230:8443/1.0/operations/fa7f5903-7698-4b97-878d-4e9c06e5ef85/websocket?secret=5e4e58a2ef8165ff3462a077dcaffbcaf18f676f38cf99d0578b765168a80500\n",
      "Local address: ('172.31.78.244', 53888)\n",
      "Remote address: ('192.168.1.230', 8443)\n",
      "Ping successful\n",
      "Message sent, waiting for response...\n",
      "Debug error: no close frame received or sent\n"
     ]
    }
   ],
   "source": [
    "import asyncio\n",
    "import websockets\n",
    "import ssl\n",
    "import nest_asyncio\n",
    "\n",
    "nest_asyncio.apply()\n",
    "\n",
    "container = client.instances.get(\"u3\")\n",
    "\n",
    "res = container.raw_interactive_execute(['/bin/bash'])\n",
    "\n",
    "ws_url = f\"wss://192.168.1.230:8443{res['ws']}\"\n",
    "\n",
    "ssl_context = ssl.create_default_context()\n",
    "ssl_context.check_hostname = False\n",
    "ssl_context.verify_mode = ssl.CERT_NONE\n",
    "\n",
    "# Function to handle the WebSocket communication\n",
    "async def connect_websocket():\n",
    "    try:\n",
    "        async with websockets.connect(ws_url, ssl=ssl_context, ping_interval=30, ping_timeout=20) as websocket:\n",
    "            print(\"Connected to WebSocket server!\")\n",
    "            \n",
    "            # Send initial message if needed\n",
    "            # await websocket.send(\"Hello, server!\")\n",
    "            # initial_response = await websocket.recv()\n",
    "            # print(f\"Initial response: {initial_response}\")\n",
    "            \n",
    "            return websocket\n",
    "    except Exception as e:\n",
    "        print(f\"Connection error: {e}\")\n",
    "        return None\n",
    "\n",
    "async def send_message(websocket, message):\n",
    "    if websocket:\n",
    "        try:\n",
    "            # Add a small delay after connecting\n",
    "            await asyncio.sleep(0.5)\n",
    "            \n",
    "            await websocket.send(message)\n",
    "            \n",
    "            # Add timeout to recv\n",
    "            response = await asyncio.wait_for(websocket.recv(), timeout=10)\n",
    "            return response\n",
    "        except asyncio.TimeoutError:\n",
    "            print(\"Timeout waiting for response\")\n",
    "            return None\n",
    "        except Exception as e:\n",
    "            print(f\"Error sending/receiving message: {e}\")\n",
    "            return None\n",
    "\n",
    "# Function to close the connection\n",
    "async def close_connection(websocket):\n",
    "    if websocket:\n",
    "        try:\n",
    "            await websocket.close()\n",
    "            print(\"Connection closed\")\n",
    "        except Exception as e:\n",
    "            print(f\"Error closing connection: {e}\")\n",
    "\n",
    "# For Jupyter use - create a connection and store it in a variable\n",
    "async def create_connection():\n",
    "    return await connect_websocket()\n",
    "\n",
    "async def debug_websocket():\n",
    "    try:\n",
    "        async with websockets.connect(ws_url, ssl=ssl_context) as websocket:\n",
    "            print(f\"Connected to {ws_url}\")\n",
    "            \n",
    "            # Print connection details\n",
    "            print(f\"Local address: {websocket.local_address}\")\n",
    "            print(f\"Remote address: {websocket.remote_address}\")\n",
    "            \n",
    "            # Try a simple ping\n",
    "            pong = await websocket.ping()\n",
    "            await asyncio.wait_for(pong, timeout=5)\n",
    "            print(\"Ping successful\")\n",
    "            \n",
    "            # Try with a simple message\n",
    "            await websocket.send(\"test\")\n",
    "            print(\"Message sent, waiting for response...\")\n",
    "            \n",
    "            response = await asyncio.wait_for(websocket.recv(), timeout=10)\n",
    "            print(f\"Response received: {response}\")\n",
    "            \n",
    "    except Exception as e:\n",
    "        print(f\"Debug error: {e}\")\n",
    "\n",
    "# Run it\n",
    "asyncio.get_event_loop().run_until_complete(debug_websocket())\n",
    "\n",
    "# Run this cell to establish the connection\n",
    "# websocket_connection = asyncio.get_event_loop().run_until_complete(create_connection())\n",
    "\n",
    "# Example usage in subsequent cells:\n",
    "# response = asyncio.get_event_loop().run_until_complete(send_message(websocket_connection, \"Your message\"))\n",
    "# print(response)\n",
    "\n",
    "# When finished:\n",
    "# asyncio.get_event_loop().run_until_complete(close_connection(websocket_connection))"
   ]
  },
  {
   "cell_type": "code",
   "execution_count": 6,
   "metadata": {},
   "outputs": [],
   "source": [
    "import asyncio\n",
    "import websockets\n",
    "import ssl\n",
    "import json\n",
    "import nest_asyncio\n",
    "import warnings\n",
    "from urllib3.exceptions import InsecureRequestWarning\n",
    "\n",
    "# Suppress SSL warnings\n",
    "warnings.simplefilter('ignore', InsecureRequestWarning)\n",
    "\n",
    "# Apply nest_asyncio for Jupyter\n",
    "nest_asyncio.apply()\n",
    "\n",
    "# SSL context\n",
    "ssl_context = ssl.create_default_context()\n",
    "ssl_context.check_hostname = False\n",
    "ssl_context.verify_mode = ssl.CERT_NONE\n",
    "\n",
    "# Get fresh connection details\n",
    "async def get_connection_urls(container_name):\n",
    "    container = client.instances.get(container_name)\n",
    "    res = container.raw_interactive_execute(['/bin/bash'])\n",
    "    \n",
    "    # Extract both WebSocket URLs\n",
    "    main_ws_url = f\"wss://192.168.1.230:8443{res['ws']}\"\n",
    "    control_ws_url = f\"wss://192.168.1.230:8443{res['control']}\"\n",
    "    \n",
    "    print(f\"Main WebSocket URL: {main_ws_url}\")\n",
    "    print(f\"Control WebSocket URL: {control_ws_url}\")\n",
    "    \n",
    "    return main_ws_url, control_ws_url\n",
    "\n",
    "# Connect to both WebSockets\n",
    "async def connect_lxd_terminal(container_name):\n",
    "    main_url, control_url = await get_connection_urls(container_name)\n",
    "    \n",
    "    # Connect to both WebSockets\n",
    "    main_ws = await websockets.connect(main_url, ssl=ssl_context, ping_interval=None)\n",
    "    control_ws = await websockets.connect(control_url, ssl=ssl_context, ping_interval=None)\n",
    "    \n",
    "    print(\"Connected to LXD WebSockets\")\n",
    "    \n",
    "    # Initialize shell via control socket\n",
    "    # control_msg = json.dumps({\n",
    "    #     \"command\": \"shell\",\n",
    "    #     \"arguments\": {\n",
    "    #         \"width\": 80,\n",
    "    #         \"height\": 24\n",
    "    #     }\n",
    "    # })\n",
    "    \n",
    "    # await control_ws.send(control_msg)\n",
    "    # print(\"Shell initialized via control socket\")\n",
    "    \n",
    "    # Wait for initial greeting from the shell\n",
    "    try:\n",
    "        initial_output = await asyncio.wait_for(main_ws.recv(), timeout=2)\n",
    "        if isinstance(initial_output, bytes):\n",
    "            initial_text = initial_output.decode('utf-8', errors='replace')\n",
    "            print(f\"Initial shell output(Bytes): {initial_text}\")\n",
    "        else:\n",
    "            print(f\"Initial shell output: {initial_output}\")\n",
    "    except asyncio.TimeoutError:\n",
    "        print(\"No initial output from shell (may be normal)\")\n",
    "    \n",
    "    # Clear any remaining initial messages\n",
    "    await clear_pending_messages(main_ws)\n",
    "    \n",
    "    return main_ws, control_ws\n",
    "\n",
    "# Function to clear any pending messages\n",
    "async def clear_pending_messages(websocket, timeout=0.5):\n",
    "    pending_messages = []\n",
    "    try:\n",
    "        while True:\n",
    "            message = await asyncio.wait_for(websocket.recv(), timeout=timeout)\n",
    "            if isinstance(message, bytes):\n",
    "                message = message.decode('utf-8', errors='replace')\n",
    "            pending_messages.append(message)\n",
    "    except asyncio.TimeoutError:\n",
    "        if pending_messages:\n",
    "            print(f\"Cleared {len(pending_messages)} pending messages\")\n",
    "            for msg in pending_messages:\n",
    "                print(f\"Cleared: {msg}\")\n",
    "    return pending_messages\n",
    "\n",
    "# Function to execute a command with improved output collection\n",
    "async def execute_command(main_ws, command, timeout=10):\n",
    "    if not command.endswith('\\n'):\n",
    "        command += '\\n'\n",
    "    \n",
    "    # Clear any pending messages before sending new command\n",
    "    await clear_pending_messages(main_ws)\n",
    "    \n",
    "    # Send command through main WebSocket\n",
    "    await main_ws.send(command)\n",
    "    print(f\"Sent command: {command.strip()}\")\n",
    "    \n",
    "    # Wait a moment for command to be processed\n",
    "    await asyncio.sleep(0.5)\n",
    "    \n",
    "    # Collect all output for a fixed time\n",
    "    output_chunks = []\n",
    "    start_time = asyncio.get_event_loop().time()\n",
    "    \n",
    "    while asyncio.get_event_loop().time() - start_time < timeout:\n",
    "        try:\n",
    "            chunk = await asyncio.wait_for(main_ws.recv(), timeout=1)\n",
    "            \n",
    "            if isinstance(chunk, bytes):\n",
    "                text = chunk.decode('utf-8', errors='replace')\n",
    "            else:\n",
    "                text = chunk\n",
    "            \n",
    "            output_chunks.append(text)\n",
    "            print(f\"DEBUG - Received chunk: {repr(text)}\")\n",
    "            \n",
    "            # Stop collecting if we've been idle for a bit\n",
    "            if len(output_chunks) > 0 and asyncio.get_event_loop().time() - start_time > 2:\n",
    "                break\n",
    "                \n",
    "        except asyncio.TimeoutError:\n",
    "            # If we got some output and now there's a timeout, we're probably done\n",
    "            if output_chunks:\n",
    "                break\n",
    "    \n",
    "    # Combine all output pieces\n",
    "    full_output = ''.join(output_chunks)\n",
    "    \n",
    "    # Remove the command echo from the beginning if present\n",
    "    command_echo = command.strip() + '\\r\\n'\n",
    "    if full_output.startswith(command_echo):\n",
    "        full_output = full_output[len(command_echo):]\n",
    "    \n",
    "    # Remove prompt if present at the end\n",
    "    prompt_patterns = ['\\r\\n[root@', '\\n[root@']\n",
    "    for pattern in prompt_patterns:\n",
    "        if pattern in full_output:\n",
    "            full_output = full_output.split(pattern)[0]\n",
    "    \n",
    "    print(f\"DEBUG - Collected {len(output_chunks)} chunks, total length: {len(full_output)}\")\n",
    "    \n",
    "    return full_output\n",
    "\n",
    "# Close connections\n",
    "async def close_connections(main_ws, control_ws):\n",
    "    # Send exit command\n",
    "    await main_ws.send(\"exit\\n\")\n",
    "    \n",
    "    # Close both WebSockets\n",
    "    await asyncio.sleep(1)  # Give it time to process\n",
    "    await main_ws.close()\n",
    "    await control_ws.close()\n",
    "    print(\"WebSocket connections closed\")\n",
    "\n",
    "# For Jupyter notebook usage\n",
    "async def jupyter_terminal_connect(container_name):\n",
    "    return await connect_lxd_terminal(container_name)\n",
    "\n",
    "async def jupyter_terminal_command(main_ws, command):\n",
    "    return await execute_command(main_ws, command)\n",
    "\n",
    "async def jupyter_terminal_close(main_ws, control_ws):\n",
    "    await close_connections(main_ws, control_ws)"
   ]
  },
  {
   "cell_type": "code",
   "execution_count": 11,
   "metadata": {},
   "outputs": [
    {
     "name": "stdout",
     "output_type": "stream",
     "text": [
      "Main WebSocket URL: wss://192.168.1.230:8443/1.0/operations/e702694e-8b97-46c4-af0b-042a34924978/websocket?secret=37755caf624650df45a9983bf1a500884c2fcd837b5ed174a44ccb6331517f85\n",
      "Control WebSocket URL: wss://192.168.1.230:8443/1.0/operations/e702694e-8b97-46c4-af0b-042a34924978/websocket?secret=516f831adcf6cb538c9f5f8bf4b88cab25dc380944194ab43785130f5e31a2bb\n",
      "Connected to LXD WebSockets\n",
      "Initial shell output(Bytes): [root@u3 ~]# \n",
      "Sent command: ls -la\n",
      "DEBUG - Collected 0 chunks, total length: 0\n",
      "Command output:\n",
      "\n",
      "Sent command: whoami\n",
      "DEBUG - Collected 0 chunks, total length: 0\n",
      "\n",
      "WebSocket connections closed\n"
     ]
    }
   ],
   "source": [
    "# First cell - connect\n",
    "container_name = \"u3\"  # Your container name\n",
    "main_ws, control_ws = await jupyter_terminal_connect(container_name)\n",
    "\n",
    "# Second cell - run a command\n",
    "output = await jupyter_terminal_command(main_ws, \"ls -la\")\n",
    "print(\"Command output:\")\n",
    "print(output)\n",
    "\n",
    "# Third cell - run more commands\n",
    "output = await jupyter_terminal_command(main_ws, \"whoami\")\n",
    "print(output)\n",
    "\n",
    "# When finished\n",
    "await jupyter_terminal_close(main_ws, control_ws)"
   ]
  },
  {
   "cell_type": "code",
   "execution_count": 7,
   "metadata": {},
   "outputs": [
    {
     "name": "stdout",
     "output_type": "stream",
     "text": [
      "Main WebSocket URL: wss://192.168.1.230:8443/1.0/operations/147c32e4-ecd1-481e-a232-87a4593b350c/websocket?secret=35696a7c9fd1938878960c3ddd4d62fbc419507f8b310b00f4439b13aba4444f\n",
      "Control WebSocket URL: wss://192.168.1.230:8443/1.0/operations/147c32e4-ecd1-481e-a232-87a4593b350c/websocket?secret=43b18c4e751c0e255a262af98b391fb1c9ef0c09b144e4a10d48913c2284bd81\n",
      "Connected to LXD WebSockets\n",
      "Initial shell output(Bytes): [root@u3 ~]# \n"
     ]
    }
   ],
   "source": [
    "main_ws, control_ws = await jupyter_terminal_connect(\"u3\")"
   ]
  },
  {
   "cell_type": "code",
   "execution_count": 10,
   "metadata": {},
   "outputs": [
    {
     "ename": "TimeoutError",
     "evalue": "",
     "output_type": "error",
     "traceback": [
      "\u001b[0;31m---------------------------------------------------------------------------\u001b[0m",
      "\u001b[0;31mCancelledError\u001b[0m                            Traceback (most recent call last)",
      "File \u001b[0;32m/usr/lib/python3.12/asyncio/tasks.py:520\u001b[0m, in \u001b[0;36mwait_for\u001b[0;34m(fut, timeout)\u001b[0m\n\u001b[1;32m    519\u001b[0m \u001b[38;5;28;01masync\u001b[39;00m \u001b[38;5;28;01mwith\u001b[39;00m timeouts\u001b[38;5;241m.\u001b[39mtimeout(timeout):\n\u001b[0;32m--> 520\u001b[0m     \u001b[38;5;28;01mreturn\u001b[39;00m \u001b[38;5;28;01mawait\u001b[39;00m fut\n",
      "File \u001b[0;32m/mnt/c/Users/asus/Desktop/Projects/cloudboi/backend/.venv/lib/python3.12/site-packages/websockets/asyncio/connection.py:270\u001b[0m, in \u001b[0;36mConnection.recv\u001b[0;34m(self, decode)\u001b[0m\n\u001b[1;32m    269\u001b[0m \u001b[38;5;28;01mtry\u001b[39;00m:\n\u001b[0;32m--> 270\u001b[0m     \u001b[38;5;28;01mreturn\u001b[39;00m \u001b[38;5;28;01mawait\u001b[39;00m \u001b[38;5;28mself\u001b[39m\u001b[38;5;241m.\u001b[39mrecv_messages\u001b[38;5;241m.\u001b[39mget(decode)\n\u001b[1;32m    271\u001b[0m \u001b[38;5;28;01mexcept\u001b[39;00m \u001b[38;5;167;01mEOFError\u001b[39;00m:\n",
      "File \u001b[0;32m/mnt/c/Users/asus/Desktop/Projects/cloudboi/backend/.venv/lib/python3.12/site-packages/websockets/asyncio/messages.py:152\u001b[0m, in \u001b[0;36mAssembler.get\u001b[0;34m(self, decode)\u001b[0m\n\u001b[1;32m    150\u001b[0m \u001b[38;5;28;01mtry\u001b[39;00m:\n\u001b[1;32m    151\u001b[0m     \u001b[38;5;66;03m# First frame\u001b[39;00m\n\u001b[0;32m--> 152\u001b[0m     frame \u001b[38;5;241m=\u001b[39m \u001b[38;5;28;01mawait\u001b[39;00m \u001b[38;5;28mself\u001b[39m\u001b[38;5;241m.\u001b[39mframes\u001b[38;5;241m.\u001b[39mget()\n\u001b[1;32m    153\u001b[0m     \u001b[38;5;28mself\u001b[39m\u001b[38;5;241m.\u001b[39mmaybe_resume()\n",
      "File \u001b[0;32m/mnt/c/Users/asus/Desktop/Projects/cloudboi/backend/.venv/lib/python3.12/site-packages/websockets/asyncio/messages.py:50\u001b[0m, in \u001b[0;36mSimpleQueue.get\u001b[0;34m(self)\u001b[0m\n\u001b[1;32m     49\u001b[0m \u001b[38;5;28;01mtry\u001b[39;00m:\n\u001b[0;32m---> 50\u001b[0m     \u001b[38;5;28;01mawait\u001b[39;00m \u001b[38;5;28mself\u001b[39m\u001b[38;5;241m.\u001b[39mget_waiter\n\u001b[1;32m     51\u001b[0m \u001b[38;5;28;01mfinally\u001b[39;00m:\n",
      "File \u001b[0;32m/usr/lib/python3.12/asyncio/futures.py:287\u001b[0m, in \u001b[0;36mFuture.__await__\u001b[0;34m(self)\u001b[0m\n\u001b[1;32m    286\u001b[0m     \u001b[38;5;28mself\u001b[39m\u001b[38;5;241m.\u001b[39m_asyncio_future_blocking \u001b[38;5;241m=\u001b[39m \u001b[38;5;28;01mTrue\u001b[39;00m\n\u001b[0;32m--> 287\u001b[0m     \u001b[38;5;28;01myield\u001b[39;00m \u001b[38;5;28mself\u001b[39m  \u001b[38;5;66;03m# This tells Task to wait for completion.\u001b[39;00m\n\u001b[1;32m    288\u001b[0m \u001b[38;5;28;01mif\u001b[39;00m \u001b[38;5;129;01mnot\u001b[39;00m \u001b[38;5;28mself\u001b[39m\u001b[38;5;241m.\u001b[39mdone():\n",
      "File \u001b[0;32m/usr/lib/python3.12/asyncio/tasks.py:385\u001b[0m, in \u001b[0;36mTask.__wakeup\u001b[0;34m(self, future)\u001b[0m\n\u001b[1;32m    384\u001b[0m \u001b[38;5;28;01mtry\u001b[39;00m:\n\u001b[0;32m--> 385\u001b[0m     \u001b[43mfuture\u001b[49m\u001b[38;5;241;43m.\u001b[39;49m\u001b[43mresult\u001b[49m\u001b[43m(\u001b[49m\u001b[43m)\u001b[49m\n\u001b[1;32m    386\u001b[0m \u001b[38;5;28;01mexcept\u001b[39;00m \u001b[38;5;167;01mBaseException\u001b[39;00m \u001b[38;5;28;01mas\u001b[39;00m exc:\n\u001b[1;32m    387\u001b[0m     \u001b[38;5;66;03m# This may also be a cancellation.\u001b[39;00m\n",
      "File \u001b[0;32m/usr/lib/python3.12/asyncio/futures.py:198\u001b[0m, in \u001b[0;36mFuture.result\u001b[0;34m(self)\u001b[0m\n\u001b[1;32m    197\u001b[0m     exc \u001b[38;5;241m=\u001b[39m \u001b[38;5;28mself\u001b[39m\u001b[38;5;241m.\u001b[39m_make_cancelled_error()\n\u001b[0;32m--> 198\u001b[0m     \u001b[38;5;28;01mraise\u001b[39;00m exc\n\u001b[1;32m    199\u001b[0m \u001b[38;5;28;01mif\u001b[39;00m \u001b[38;5;28mself\u001b[39m\u001b[38;5;241m.\u001b[39m_state \u001b[38;5;241m!=\u001b[39m _FINISHED:\n",
      "\u001b[0;31mCancelledError\u001b[0m: ",
      "\nThe above exception was the direct cause of the following exception:\n",
      "\u001b[0;31mTimeoutError\u001b[0m                              Traceback (most recent call last)",
      "Cell \u001b[0;32mIn[10], line 2\u001b[0m\n\u001b[1;32m      1\u001b[0m \u001b[38;5;28;01mawait\u001b[39;00m main_ws\u001b[38;5;241m.\u001b[39msend(\u001b[38;5;124m\"\u001b[39m\u001b[38;5;124mls -la\u001b[39m\u001b[38;5;130;01m\\n\u001b[39;00m\u001b[38;5;124m\"\u001b[39m)\n\u001b[0;32m----> 2\u001b[0m output \u001b[38;5;241m=\u001b[39m \u001b[38;5;28;01mawait\u001b[39;00m asyncio\u001b[38;5;241m.\u001b[39mwait_for(main_ws\u001b[38;5;241m.\u001b[39mrecv(), timeout\u001b[38;5;241m=\u001b[39m\u001b[38;5;241m10\u001b[39m)\n\u001b[1;32m      3\u001b[0m \u001b[38;5;66;03m# Check if it time out\u001b[39;00m\n\u001b[1;32m      4\u001b[0m \u001b[38;5;28mprint\u001b[39m(output)\n",
      "File \u001b[0;32m/usr/lib/python3.12/asyncio/tasks.py:519\u001b[0m, in \u001b[0;36mwait_for\u001b[0;34m(fut, timeout)\u001b[0m\n\u001b[1;32m    516\u001b[0m     \u001b[38;5;28;01mexcept\u001b[39;00m exceptions\u001b[38;5;241m.\u001b[39mCancelledError \u001b[38;5;28;01mas\u001b[39;00m exc:\n\u001b[1;32m    517\u001b[0m         \u001b[38;5;28;01mraise\u001b[39;00m \u001b[38;5;167;01mTimeoutError\u001b[39;00m \u001b[38;5;28;01mfrom\u001b[39;00m \u001b[38;5;21;01mexc\u001b[39;00m\n\u001b[0;32m--> 519\u001b[0m \u001b[38;5;28;01masync\u001b[39;00m \u001b[38;5;28;01mwith\u001b[39;00m timeouts\u001b[38;5;241m.\u001b[39mtimeout(timeout):\n\u001b[1;32m    520\u001b[0m     \u001b[38;5;28;01mreturn\u001b[39;00m \u001b[38;5;28;01mawait\u001b[39;00m fut\n",
      "File \u001b[0;32m/usr/lib/python3.12/asyncio/timeouts.py:115\u001b[0m, in \u001b[0;36mTimeout.__aexit__\u001b[0;34m(self, exc_type, exc_val, exc_tb)\u001b[0m\n\u001b[1;32m    110\u001b[0m     \u001b[38;5;28mself\u001b[39m\u001b[38;5;241m.\u001b[39m_state \u001b[38;5;241m=\u001b[39m _State\u001b[38;5;241m.\u001b[39mEXPIRED\n\u001b[1;32m    112\u001b[0m     \u001b[38;5;28;01mif\u001b[39;00m \u001b[38;5;28mself\u001b[39m\u001b[38;5;241m.\u001b[39m_task\u001b[38;5;241m.\u001b[39muncancel() \u001b[38;5;241m<\u001b[39m\u001b[38;5;241m=\u001b[39m \u001b[38;5;28mself\u001b[39m\u001b[38;5;241m.\u001b[39m_cancelling \u001b[38;5;129;01mand\u001b[39;00m exc_type \u001b[38;5;129;01mis\u001b[39;00m exceptions\u001b[38;5;241m.\u001b[39mCancelledError:\n\u001b[1;32m    113\u001b[0m         \u001b[38;5;66;03m# Since there are no new cancel requests, we're\u001b[39;00m\n\u001b[1;32m    114\u001b[0m         \u001b[38;5;66;03m# handling this.\u001b[39;00m\n\u001b[0;32m--> 115\u001b[0m         \u001b[38;5;28;01mraise\u001b[39;00m \u001b[38;5;167;01mTimeoutError\u001b[39;00m \u001b[38;5;28;01mfrom\u001b[39;00m \u001b[38;5;21;01mexc_val\u001b[39;00m\n\u001b[1;32m    116\u001b[0m \u001b[38;5;28;01melif\u001b[39;00m \u001b[38;5;28mself\u001b[39m\u001b[38;5;241m.\u001b[39m_state \u001b[38;5;129;01mis\u001b[39;00m _State\u001b[38;5;241m.\u001b[39mENTERED:\n\u001b[1;32m    117\u001b[0m     \u001b[38;5;28mself\u001b[39m\u001b[38;5;241m.\u001b[39m_state \u001b[38;5;241m=\u001b[39m _State\u001b[38;5;241m.\u001b[39mEXITED\n",
      "\u001b[0;31mTimeoutError\u001b[0m: "
     ]
    }
   ],
   "source": [
    "await main_ws.send(\"ls -la\\n\")\n",
    "output = await asyncio.wait_for(main_ws.recv(), timeout=10)\n",
    "# Check if it time out\n",
    "print(output)"
   ]
  },
  {
   "cell_type": "code",
   "execution_count": null,
   "metadata": {},
   "outputs": [
    {
     "data": {
      "text/plain": [
       "Instance not found\n"
      ]
     },
     "metadata": {},
     "output_type": "display_data"
    }
   ],
   "source": [
    "\n",
    "def get_instance(instance_name):  \n",
    "  try:\n",
    "    instance = client.instances.get(instance_name)\n",
    "    return instance\n",
    "  except pylxd.exceptions.LXDAPIException as e:\n",
    "    print(e)\n",
    "    return None\n",
    "  \n",
    "test_instance = get_instance('test-instance')"
   ]
  },
  {
   "cell_type": "code",
   "execution_count": null,
   "metadata": {},
   "outputs": [],
   "source": [
    "all_image = client.images.all()\n",
    "\n",
    "for image in all_image:\n",
    "    print(image.alias)\n",
    "    print(image.fingerprint)"
   ]
  },
  {
   "cell_type": "code",
   "execution_count": 19,
   "metadata": {},
   "outputs": [
    {
     "name": "stderr",
     "output_type": "stream",
     "text": [
      "/mnt/c/Users/asus/Desktop/Projects/cloudboi/backend/.venv/lib/python3.12/site-packages/urllib3/connectionpool.py:1099: InsecureRequestWarning: Unverified HTTPS request is being made to host '192.168.1.230'. Adding certificate verification is strongly advised. See: https://urllib3.readthedocs.io/en/latest/advanced-usage.html#tls-warnings\n",
      "  warnings.warn(\n",
      "/mnt/c/Users/asus/Desktop/Projects/cloudboi/backend/.venv/lib/python3.12/site-packages/urllib3/connectionpool.py:1099: InsecureRequestWarning: Unverified HTTPS request is being made to host '192.168.1.230'. Adding certificate verification is strongly advised. See: https://urllib3.readthedocs.io/en/latest/advanced-usage.html#tls-warnings\n",
      "  warnings.warn(\n",
      "/mnt/c/Users/asus/Desktop/Projects/cloudboi/backend/.venv/lib/python3.12/site-packages/urllib3/connectionpool.py:1099: InsecureRequestWarning: Unverified HTTPS request is being made to host '192.168.1.230'. Adding certificate verification is strongly advised. See: https://urllib3.readthedocs.io/en/latest/advanced-usage.html#tls-warnings\n",
      "  warnings.warn(\n"
     ]
    },
    {
     "name": "stdout",
     "output_type": "stream",
     "text": [
      "Failed creating instance record: Instance \"test-instance\" already exists\n"
     ]
    },
    {
     "name": "stderr",
     "output_type": "stream",
     "text": [
      "/mnt/c/Users/asus/Desktop/Projects/cloudboi/backend/.venv/lib/python3.12/site-packages/urllib3/connectionpool.py:1099: InsecureRequestWarning: Unverified HTTPS request is being made to host '192.168.1.230'. Adding certificate verification is strongly advised. See: https://urllib3.readthedocs.io/en/latest/advanced-usage.html#tls-warnings\n",
      "  warnings.warn(\n"
     ]
    },
    {
     "data": {
      "text/plain": [
       "<pylxd.models.instance.Instance at 0x7fed04103ca0>"
      ]
     },
     "execution_count": 19,
     "metadata": {},
     "output_type": "execute_result"
    }
   ],
   "source": [
    "def create_instance(instance_name):\n",
    "  instance_info = {\n",
    "      'name': instance_name,\n",
    "      \"source\": {\n",
    "            \"type\": \"image\",\n",
    "            \"mode\": \"pull\",\n",
    "            \"server\": \"https://cloud-images.ubuntu.com/releases\",\n",
    "            \"protocol\": \"simplestreams\",\n",
    "            \"alias\": \"22.04\",\n",
    "        },\n",
    "      'profiles': ['default'],\n",
    "      'config': {\n",
    "        'limits.cpu': '1',\n",
    "        'limits.memory': '256MB'\n",
    "      }\n",
    "    }\n",
    "  try:\n",
    "    instance = client.instances.create(instance_info, wait=True, target='@cloudboi-resource')\n",
    "    return instance\n",
    "  except pylxd.exceptions.LXDAPIException as e:\n",
    "    print(e)\n",
    "    return\n",
    "  \n",
    "test_instance = create_instance('test-instance')\n",
    "\n",
    "client.instances.get('test-instance')"
   ]
  },
  {
   "cell_type": "code",
   "execution_count": null,
   "metadata": {},
   "outputs": [
    {
     "data": {
      "text/plain": [
       "<pylxd.models.instance.Instance object at 0x102e00e40>\n"
      ]
     },
     "metadata": {},
     "output_type": "display_data"
    }
   ],
   "source": [
    "def start_instance(instance_name):\n",
    "  try:\n",
    "    instance = get_instance(instance_name)\n",
    "    instance.start(wait=False)\n",
    "    return instance\n",
    "  except pylxd.exceptions.LXDAPIException as e:\n",
    "    print(e)\n",
    "    return\n",
    "  \n",
    "print(start_instance('test-instance'))"
   ]
  },
  {
   "cell_type": "code",
   "execution_count": null,
   "metadata": {},
   "outputs": [
    {
     "data": {
      "text/plain": [
       "Instance is running\n"
      ]
     },
     "metadata": {},
     "output_type": "display_data"
    }
   ],
   "source": [
    "def delete_instance(instance_name):\n",
    "  try:\n",
    "    instance = client.instances.get(instance_name)\n",
    "    instance.delete(wait=True)\n",
    "  except pylxd.exceptions.LXDAPIException as e:\n",
    "    print(e)\n",
    "    return\n",
    "# Cant delete instance if it is running\n",
    "delete_instance('test-instance')"
   ]
  },
  {
   "cell_type": "code",
   "execution_count": null,
   "metadata": {},
   "outputs": [
    {
     "data": {
      "text/plain": [
       "Traceback (most recent call last):\n",
       "  File \"/Users/pannapat/.vscode/extensions/ms-python.python-2024.20.0-darwin-arm64/python_files/python_server.py\", line 130, in exec_user_input\n",
       "    retval = callable_(user_input, user_globals)\n",
       "             ^^^^^^^^^^^^^^^^^^^^^^^^^^^^^^^^^^^\n",
       "  File \"<string>\", line 11, in <module>\n",
       "  File \"<string>\", line 5, in execute_command\n",
       "  File \"/Users/pannapat/Desktop/cloudboi/backend/.venv/lib/python3.12/site-packages/pylxd/models/instance.py\", line 475, in execute\n",
       "    stdin.connect()\n",
       "  File \"/Users/pannapat/Desktop/cloudboi/backend/.venv/lib/python3.12/site-packages/ws4py/client/__init__.py\", line 214, in connect\n",
       "    self.sock = ssl.wrap_socket(self.sock, **self.ssl_options)\n",
       "                ^^^^^^^^^^^^^^^\n",
       "AttributeError: module 'ssl' has no attribute 'wrap_socket'\n",
       "\n"
      ]
     },
     "metadata": {},
     "output_type": "display_data"
    }
   ],
   "source": [
    "# execute command \n",
    "def execute_command(instance_name, command):\n",
    "  try:\n",
    "    instance = get_instance(instance_name)\n",
    "    result = instance.execute(command)\n",
    "    return result\n",
    "  except pylxd.exceptions.LXDAPIException as e:\n",
    "    print(e)\n",
    "    return\n",
    "  \n",
    "print(execute_command('test-instance', ['ls', '-l']))"
   ]
  },
  {
   "cell_type": "markdown",
   "metadata": {},
   "source": []
  }
 ],
 "metadata": {
  "kernelspec": {
   "display_name": ".venv",
   "language": "python",
   "name": "python3"
  },
  "language_info": {
   "codemirror_mode": {
    "name": "ipython",
    "version": 3
   },
   "file_extension": ".py",
   "mimetype": "text/x-python",
   "name": "python",
   "nbconvert_exporter": "python",
   "pygments_lexer": "ipython3",
   "version": "3.12.3"
  }
 },
 "nbformat": 4,
 "nbformat_minor": 2
}
