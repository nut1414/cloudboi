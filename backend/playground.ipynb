{
 "cells": [
  {
   "cell_type": "code",
   "execution_count": null,
   "metadata": {
    "vscode": {
     "languageId": "plaintext"
    }
   },
   "outputs": [],
   "source": []
  },
  {
   "cell_type": "code",
   "execution_count": null,
   "metadata": {},
   "outputs": [],
   "source": [
    "import pylxd\n",
    "import os\n",
    "\n",
    "from pylxd import Client"
   ]
  },
  {
   "cell_type": "markdown",
   "metadata": {},
   "source": [
    "## Authenticating"
   ]
  },
  {
   "cell_type": "code",
   "execution_count": null,
   "metadata": {},
   "outputs": [
    {
     "data": {
      "text/plain": [
       "/Users/pannapat/Desktop/cloudboi/testcertificates/test.crt\n"
      ]
     },
     "metadata": {},
     "output_type": "display_data"
    }
   ],
   "source": [
    "BASE_DIR = os.getcwd()\n",
    "def cert_path(file):\n",
    "    return os.path.join(BASE_DIR,'backend', 'test_certificate', file)"
   ]
  },
  {
   "cell_type": "markdown",
   "metadata": {},
   "source": [
    "## Before executing this need to make sure that\n",
    "core.trust_password is set to expected password\n",
    "\n",
    "```\n",
    "sudo lxc config get core.trust_password\n",
    "```\n",
    "\n",
    "```\n",
    "sudo lxc config set core.trust_password test\n",
    "```\n",
    "\n",
    "# or use following command to get trusted token\n",
    "\n",
    "```\n",
    "lxc config trust add\n",
    "```\n",
    "\n"
   ]
  },
  {
   "cell_type": "code",
   "execution_count": null,
   "metadata": {},
   "outputs": [
    {
     "data": {
      "text/plain": [
       "True\n"
      ]
     },
     "metadata": {},
     "output_type": "display_data"
    }
   ],
   "source": [
    "cert = (cert_path('lxd.crt'),cert_path('lxd.key'))\n",
    "endpoint = 'https://198.19.249.45:8443'\n",
    "\n",
    "trusted = 'eyJjbGllbnRfbmFtZSI6InB5dGhvbnJlcGwiLCJmaW5nZXJwcmludCI6IjM1NmEyYzhhNDJlMjFlMDhjMDI2MzdiNzUzOTBkOTk3NmYzMGU5YzBmNjU3YzYxNWEwMmU0Y2YyMjhlMTYwZDciLCJhZGRyZXNzZXMiOlsiMTk4LjE5LjI0OS40NTo4NDQzIl0sInNlY3JldCI6IjI3ZTQ5ZjNhOGEzZTZlNGQ2YzI2MzBlMGVlNDQ5YzY3NmI3MzI3MzYyMTBlODA3OTA0NzliNTBmOTU3ZTU3NzkiLCJleHBpcmVzX2F0IjoiMDAwMS0wMS0wMVQwMDowMDowMFoifQ=='\n",
    "\n",
    "client: pylxd.Client = pylxd.Client(endpoint=endpoint, cert=cert, verify=False)\n",
    "\n",
    "client.authenticate(trusted)\n",
    "print(client.trusted)"
   ]
  },
  {
   "cell_type": "code",
   "execution_count": null,
   "metadata": {},
   "outputs": [
    {
     "data": {
      "text/plain": [
       "main\n",
       "sub-0\n",
       "sub-1\n"
      ]
     },
     "metadata": {},
     "output_type": "display_data"
    }
   ],
   "source": [
    "\n",
    "allMembersInCluster = client.cluster.members.all()\n",
    "\n",
    "for member in allMembersInCluster:\n",
    "    print(member.server_name)\n"
   ]
  },
  {
   "cell_type": "code",
   "execution_count": null,
   "metadata": {},
   "outputs": [
    {
     "data": {
      "text/plain": [
       "Instance not found\n"
      ]
     },
     "metadata": {},
     "output_type": "display_data"
    }
   ],
   "source": [
    "\n",
    "def get_instance(instance_name):  \n",
    "  try:\n",
    "    instance = client.instances.get(instance_name)\n",
    "    return instance\n",
    "  except pylxd.exceptions.LXDAPIException as e:\n",
    "    print(e)\n",
    "    return None\n",
    "  \n",
    "test_instance = get_instance('test-instance')"
   ]
  },
  {
   "cell_type": "code",
   "execution_count": null,
   "metadata": {},
   "outputs": [],
   "source": [
    "all_image = client.images.all()\n",
    "\n",
    "for image in all_image:\n",
    "    print(image.alias)\n",
    "    print(image.fingerprint)"
   ]
  },
  {
   "cell_type": "code",
   "execution_count": null,
   "metadata": {},
   "outputs": [
    {
     "data": {
      "text/plain": [
       "<pylxd.models.instance.Instance object at 0x102e003c0>\n"
      ]
     },
     "metadata": {},
     "output_type": "display_data"
    }
   ],
   "source": [
    "def create_instance(instance_name):\n",
    "  instance_info = {\n",
    "      'name': instance_name,\n",
    "      \"source\": {\n",
    "            \"type\": \"image\",\n",
    "            \"mode\": \"pull\",\n",
    "            \"server\": \"https://cloud-images.ubuntu.com/releases\",\n",
    "            \"protocol\": \"simplestreams\",\n",
    "            \"alias\": \"22.04\",\n",
    "        },\n",
    "      'profiles': ['default'],\n",
    "      'config': {\n",
    "        'limits.cpu': '1',\n",
    "        'limits.memory': '256MB'\n",
    "      }\n",
    "    }\n",
    "  try:\n",
    "    instance = client.instances.create(instance_info, wait=True)\n",
    "    return instance\n",
    "  except pylxd.exceptions.LXDAPIException as e:\n",
    "    print(e)\n",
    "    return\n",
    "  \n",
    "test_instance = create_instance('test-instance')\n",
    "\n",
    "print(get_instance('test-instance'))\n"
   ]
  },
  {
   "cell_type": "code",
   "execution_count": null,
   "metadata": {},
   "outputs": [
    {
     "data": {
      "text/plain": [
       "<pylxd.models.instance.Instance object at 0x102e00e40>\n"
      ]
     },
     "metadata": {},
     "output_type": "display_data"
    }
   ],
   "source": [
    "def start_instance(instance_name):\n",
    "  try:\n",
    "    instance = get_instance(instance_name)\n",
    "    instance.start(wait=False)\n",
    "    return instance\n",
    "  except pylxd.exceptions.LXDAPIException as e:\n",
    "    print(e)\n",
    "    return\n",
    "  \n",
    "print(start_instance('test-instance'))"
   ]
  },
  {
   "cell_type": "code",
   "execution_count": null,
   "metadata": {},
   "outputs": [
    {
     "data": {
      "text/plain": [
       "Instance is running\n"
      ]
     },
     "metadata": {},
     "output_type": "display_data"
    }
   ],
   "source": [
    "def delete_instance(instance_name):\n",
    "  try:\n",
    "    instance = client.instances.get(instance_name)\n",
    "    instance.delete(wait=True)\n",
    "  except pylxd.exceptions.LXDAPIException as e:\n",
    "    print(e)\n",
    "    return\n",
    "# Cant delete instance if it is running\n",
    "delete_instance('test-instance')"
   ]
  },
  {
   "cell_type": "code",
   "execution_count": null,
   "metadata": {},
   "outputs": [
    {
     "data": {
      "text/plain": [
       "Traceback (most recent call last):\n",
       "  File \"/Users/pannapat/.vscode/extensions/ms-python.python-2024.20.0-darwin-arm64/python_files/python_server.py\", line 130, in exec_user_input\n",
       "    retval = callable_(user_input, user_globals)\n",
       "             ^^^^^^^^^^^^^^^^^^^^^^^^^^^^^^^^^^^\n",
       "  File \"<string>\", line 11, in <module>\n",
       "  File \"<string>\", line 5, in execute_command\n",
       "  File \"/Users/pannapat/Desktop/cloudboi/backend/.venv/lib/python3.12/site-packages/pylxd/models/instance.py\", line 475, in execute\n",
       "    stdin.connect()\n",
       "  File \"/Users/pannapat/Desktop/cloudboi/backend/.venv/lib/python3.12/site-packages/ws4py/client/__init__.py\", line 214, in connect\n",
       "    self.sock = ssl.wrap_socket(self.sock, **self.ssl_options)\n",
       "                ^^^^^^^^^^^^^^^\n",
       "AttributeError: module 'ssl' has no attribute 'wrap_socket'\n",
       "\n"
      ]
     },
     "metadata": {},
     "output_type": "display_data"
    }
   ],
   "source": [
    "# execute command \n",
    "def execute_command(instance_name, command):\n",
    "  try:\n",
    "    instance = get_instance(instance_name)\n",
    "    result = instance.execute(command)\n",
    "    return result\n",
    "  except pylxd.exceptions.LXDAPIException as e:\n",
    "    print(e)\n",
    "    return\n",
    "  \n",
    "print(execute_command('test-instance', ['ls', '-l']))"
   ]
  },
  {
   "cell_type": "markdown",
   "metadata": {},
   "source": []
  }
 ],
 "metadata": {
  "language_info": {
   "name": "python"
  }
 },
 "nbformat": 4,
 "nbformat_minor": 2
}
